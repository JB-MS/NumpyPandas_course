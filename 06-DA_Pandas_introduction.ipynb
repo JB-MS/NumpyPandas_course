{
 "cells": [
  {
   "cell_type": "markdown",
   "metadata": {},
   "source": [
    "# 6. Pandas Introduction\n",
    "\n",
    "In the previous chapters, we have learned how to handle Numpy arrays that can be used to efficiently perform numerical calculations. Those arrays are however homogeneous structures i.e. they can only contain one type of data. Also, even if we have a single type of data, the different rows or columns of an array do not have labels, making it difficult to track what they contain. For such cases, we need a structure closer to a table as can be found in Excel, and these structures are implemented by the package Pandas.\n",
    "\n",
    "But why can't we simply use Excel then? While Excel is practical to browse through data, it is very cumbersome to use to combine, re-arrange and thoroughly analyze data: code is hidden and difficult to share, there's no version control, it's difficult to automate tasks, the manual clicking around leads to mistakes etc.\n",
    "\n",
    "In the next chapters, you will learn how to handle tabular data with Pandas, a Python package widely used in the scientific and data science areas. You will learn how to create and import tables, how to combine them, modify them, do statistical analysis on them and finally how to use them to easily create complex visualizations.\n",
    "\n",
    "So that you see where this leads, we start with a short example of how Pandas can be used in a project. We look here at data provided openly by the Swiss National Science Foundation about grants attributed since 1975."
   ]
  },
  {
   "cell_type": "code",
   "execution_count": 302,
   "metadata": {},
   "outputs": [],
   "source": [
    "import numpy as np\n",
    "import pandas as pd\n",
    "import seaborn as sns"
   ]
  },
  {
   "cell_type": "markdown",
   "metadata": {},
   "source": [
    "## 6.1 Importing data\n",
    "\n",
    "Before anything, we need access to the data that can be found [here](https://opendata.swiss/de/dataset/p3-export-projects-people-and-publications). We can either manually download them and then use the path to read the data or directly use the url. The latter has the advantage that if you have an evolving source of data, these will always be up to date:"
   ]
  },
  {
   "cell_type": "code",
   "execution_count": 300,
   "metadata": {},
   "outputs": [],
   "source": [
    "# local import\n",
    "#projects = pd.read_csv('../Data/P3_GrantExport.csv',sep = ';')\n",
    "\n",
    "# import from url\n",
    "projects = pd.read_csv('http://p3.snf.ch/P3Export/P3_GrantExport.csv',sep = ';')"
   ]
  },
  {
   "cell_type": "markdown",
   "metadata": {},
   "source": [
    "Then we can have a brief look at the table itself that Jupyter displays in a formated way and limit the view to the 5 first rows using ```head()```:"
   ]
  },
  {
   "cell_type": "code",
   "execution_count": 303,
   "metadata": {},
   "outputs": [
    {
     "data": {
      "text/html": [
       "<div>\n",
       "<style scoped>\n",
       "    .dataframe tbody tr th:only-of-type {\n",
       "        vertical-align: middle;\n",
       "    }\n",
       "\n",
       "    .dataframe tbody tr th {\n",
       "        vertical-align: top;\n",
       "    }\n",
       "\n",
       "    .dataframe thead th {\n",
       "        text-align: right;\n",
       "    }\n",
       "</style>\n",
       "<table border=\"1\" class=\"dataframe\">\n",
       "  <thead>\n",
       "    <tr style=\"text-align: right;\">\n",
       "      <th></th>\n",
       "      <th>Project Number</th>\n",
       "      <th>Project Number String</th>\n",
       "      <th>Project Title</th>\n",
       "      <th>Project Title English</th>\n",
       "      <th>Responsible Applicant</th>\n",
       "      <th>Funding Instrument</th>\n",
       "      <th>Funding Instrument Hierarchy</th>\n",
       "      <th>Institution</th>\n",
       "      <th>Institution Country</th>\n",
       "      <th>University</th>\n",
       "      <th>Discipline Number</th>\n",
       "      <th>Discipline Name</th>\n",
       "      <th>Discipline Name Hierarchy</th>\n",
       "      <th>All disciplines</th>\n",
       "      <th>Start Date</th>\n",
       "      <th>End Date</th>\n",
       "      <th>Approved Amount</th>\n",
       "      <th>Keywords</th>\n",
       "    </tr>\n",
       "  </thead>\n",
       "  <tbody>\n",
       "    <tr>\n",
       "      <th>0</th>\n",
       "      <td>1</td>\n",
       "      <td>1000-000001</td>\n",
       "      <td>Schlussband (Bd. VI) der Jacob Burckhardt-Biog...</td>\n",
       "      <td>NaN</td>\n",
       "      <td>Kaegi Werner</td>\n",
       "      <td>Project funding (Div. I-III)</td>\n",
       "      <td>Project funding</td>\n",
       "      <td>NaN</td>\n",
       "      <td>NaN</td>\n",
       "      <td>Unassignable - NA</td>\n",
       "      <td>10302</td>\n",
       "      <td>Swiss history</td>\n",
       "      <td>Humanities and Social Sciences;Theology &amp; reli...</td>\n",
       "      <td>10302</td>\n",
       "      <td>01.10.1975</td>\n",
       "      <td>30.09.1976</td>\n",
       "      <td>11619.00</td>\n",
       "      <td>NaN</td>\n",
       "    </tr>\n",
       "    <tr>\n",
       "      <th>1</th>\n",
       "      <td>4</td>\n",
       "      <td>1000-000004</td>\n",
       "      <td>Batterie de tests à l'usage des enseignants po...</td>\n",
       "      <td>NaN</td>\n",
       "      <td>Massarenti Léonard</td>\n",
       "      <td>Project funding (Div. I-III)</td>\n",
       "      <td>Project funding</td>\n",
       "      <td>Faculté de Psychologie et des Sciences de l'Ed...</td>\n",
       "      <td>Switzerland</td>\n",
       "      <td>University of Geneva - GE</td>\n",
       "      <td>10104</td>\n",
       "      <td>Educational science and Pedagogy</td>\n",
       "      <td>Humanities and Social Sciences;Psychology, edu...</td>\n",
       "      <td>10104</td>\n",
       "      <td>01.10.1975</td>\n",
       "      <td>30.09.1976</td>\n",
       "      <td>41022.00</td>\n",
       "      <td>NaN</td>\n",
       "    </tr>\n",
       "    <tr>\n",
       "      <th>2</th>\n",
       "      <td>5</td>\n",
       "      <td>1000-000005</td>\n",
       "      <td>Kritische Erstausgabe der 'Evidentiae contra D...</td>\n",
       "      <td>NaN</td>\n",
       "      <td>Kommission für das Corpus philosophorum medii ...</td>\n",
       "      <td>Project funding (Div. I-III)</td>\n",
       "      <td>Project funding</td>\n",
       "      <td>Kommission für das Corpus philosophorum medii ...</td>\n",
       "      <td>Switzerland</td>\n",
       "      <td>Non-profit organisations (libraries, museums, ...</td>\n",
       "      <td>10101</td>\n",
       "      <td>Philosophy</td>\n",
       "      <td>Humanities and Social Sciences;Linguistics and...</td>\n",
       "      <td>10101</td>\n",
       "      <td>01.03.1976</td>\n",
       "      <td>28.02.1985</td>\n",
       "      <td>79732.00</td>\n",
       "      <td>NaN</td>\n",
       "    </tr>\n",
       "    <tr>\n",
       "      <th>3</th>\n",
       "      <td>6</td>\n",
       "      <td>1000-000006</td>\n",
       "      <td>Katalog der datierten Handschriften in der Sch...</td>\n",
       "      <td>NaN</td>\n",
       "      <td>Burckhardt Max</td>\n",
       "      <td>Project funding (Div. I-III)</td>\n",
       "      <td>Project funding</td>\n",
       "      <td>Abteilung Handschriften und Alte Drucke Univer...</td>\n",
       "      <td>Switzerland</td>\n",
       "      <td>University of Basel - BS</td>\n",
       "      <td>10302</td>\n",
       "      <td>Swiss history</td>\n",
       "      <td>Humanities and Social Sciences;Theology &amp; reli...</td>\n",
       "      <td>10302</td>\n",
       "      <td>01.10.1975</td>\n",
       "      <td>30.09.1976</td>\n",
       "      <td>52627.00</td>\n",
       "      <td>NaN</td>\n",
       "    </tr>\n",
       "    <tr>\n",
       "      <th>4</th>\n",
       "      <td>7</td>\n",
       "      <td>1000-000007</td>\n",
       "      <td>Wissenschaftliche Mitarbeit am Thesaurus Lingu...</td>\n",
       "      <td>NaN</td>\n",
       "      <td>Schweiz. Thesauruskommission</td>\n",
       "      <td>Project funding (Div. I-III)</td>\n",
       "      <td>Project funding</td>\n",
       "      <td>Schweiz. Thesauruskommission</td>\n",
       "      <td>Switzerland</td>\n",
       "      <td>Non-profit organisations (libraries, museums, ...</td>\n",
       "      <td>10303</td>\n",
       "      <td>Ancient history and Classical studies</td>\n",
       "      <td>Humanities and Social Sciences;Theology &amp; reli...</td>\n",
       "      <td>10303</td>\n",
       "      <td>01.01.1976</td>\n",
       "      <td>30.04.1978</td>\n",
       "      <td>120042.00</td>\n",
       "      <td>NaN</td>\n",
       "    </tr>\n",
       "  </tbody>\n",
       "</table>\n",
       "</div>"
      ],
      "text/plain": [
       "   Project Number Project Number String  \\\n",
       "0               1           1000-000001   \n",
       "1               4           1000-000004   \n",
       "2               5           1000-000005   \n",
       "3               6           1000-000006   \n",
       "4               7           1000-000007   \n",
       "\n",
       "                                       Project Title Project Title English  \\\n",
       "0  Schlussband (Bd. VI) der Jacob Burckhardt-Biog...                   NaN   \n",
       "1  Batterie de tests à l'usage des enseignants po...                   NaN   \n",
       "2  Kritische Erstausgabe der 'Evidentiae contra D...                   NaN   \n",
       "3  Katalog der datierten Handschriften in der Sch...                   NaN   \n",
       "4  Wissenschaftliche Mitarbeit am Thesaurus Lingu...                   NaN   \n",
       "\n",
       "                               Responsible Applicant  \\\n",
       "0                                       Kaegi Werner   \n",
       "1                                 Massarenti Léonard   \n",
       "2  Kommission für das Corpus philosophorum medii ...   \n",
       "3                                     Burckhardt Max   \n",
       "4                       Schweiz. Thesauruskommission   \n",
       "\n",
       "             Funding Instrument Funding Instrument Hierarchy  \\\n",
       "0  Project funding (Div. I-III)              Project funding   \n",
       "1  Project funding (Div. I-III)              Project funding   \n",
       "2  Project funding (Div. I-III)              Project funding   \n",
       "3  Project funding (Div. I-III)              Project funding   \n",
       "4  Project funding (Div. I-III)              Project funding   \n",
       "\n",
       "                                         Institution Institution Country  \\\n",
       "0                                                NaN                 NaN   \n",
       "1  Faculté de Psychologie et des Sciences de l'Ed...         Switzerland   \n",
       "2  Kommission für das Corpus philosophorum medii ...         Switzerland   \n",
       "3  Abteilung Handschriften und Alte Drucke Univer...         Switzerland   \n",
       "4                       Schweiz. Thesauruskommission         Switzerland   \n",
       "\n",
       "                                          University  Discipline Number  \\\n",
       "0                                  Unassignable - NA              10302   \n",
       "1                          University of Geneva - GE              10104   \n",
       "2  Non-profit organisations (libraries, museums, ...              10101   \n",
       "3                           University of Basel - BS              10302   \n",
       "4  Non-profit organisations (libraries, museums, ...              10303   \n",
       "\n",
       "                         Discipline Name  \\\n",
       "0                          Swiss history   \n",
       "1       Educational science and Pedagogy   \n",
       "2                             Philosophy   \n",
       "3                          Swiss history   \n",
       "4  Ancient history and Classical studies   \n",
       "\n",
       "                           Discipline Name Hierarchy All disciplines  \\\n",
       "0  Humanities and Social Sciences;Theology & reli...           10302   \n",
       "1  Humanities and Social Sciences;Psychology, edu...           10104   \n",
       "2  Humanities and Social Sciences;Linguistics and...           10101   \n",
       "3  Humanities and Social Sciences;Theology & reli...           10302   \n",
       "4  Humanities and Social Sciences;Theology & reli...           10303   \n",
       "\n",
       "   Start Date    End Date Approved Amount Keywords  \n",
       "0  01.10.1975  30.09.1976        11619.00      NaN  \n",
       "1  01.10.1975  30.09.1976        41022.00      NaN  \n",
       "2  01.03.1976  28.02.1985        79732.00      NaN  \n",
       "3  01.10.1975  30.09.1976        52627.00      NaN  \n",
       "4  01.01.1976  30.04.1978       120042.00      NaN  "
      ]
     },
     "execution_count": 303,
     "metadata": {},
     "output_type": "execute_result"
    }
   ],
   "source": [
    "projects.head(5)"
   ]
  },
  {
   "cell_type": "markdown",
   "metadata": {},
   "source": [
    "## 6.2 Exploring data\n",
    "\n",
    "Pandas offers a variety of tools to compile information about data, and that compilation can be done very efficiently without the need for loops, conditionals etc.\n",
    "\n",
    "For example we can quickly count how many times each University appear in that table. We just use the ```value_counts()``` method for that:"
   ]
  },
  {
   "cell_type": "code",
   "execution_count": 78,
   "metadata": {},
   "outputs": [
    {
     "data": {
      "text/plain": [
       "Institution abroad - IACH      13343\n",
       "University of Zurich - ZH       8164\n",
       "University of Geneva - GE       7380\n",
       "ETH Zurich - ETHZ               7273\n",
       "University of Berne - BE        6439\n",
       "University of Basel - BS        5558\n",
       "EPF Lausanne - EPFL             5173\n",
       "University of Lausanne - LA     4940\n",
       "Unassignable - NA               2642\n",
       "University of Fribourg - FR     2535\n",
       "Name: University, dtype: int64"
      ]
     },
     "execution_count": 78,
     "metadata": {},
     "output_type": "execute_result"
    }
   ],
   "source": [
    "projects['University'].value_counts().head(10)"
   ]
  },
  {
   "cell_type": "markdown",
   "metadata": {},
   "source": [
    "Then we can very easily plot the resulting information, either using directly Pandas or a more advanced library like Seaborn, plotnine or Altair.\n",
    "\n",
    "Here first with plain Pandas (using Matplotlib under the hood):"
   ]
  },
  {
   "cell_type": "code",
   "execution_count": 79,
   "metadata": {},
   "outputs": [
    {
     "data": {
      "text/plain": [
       "<matplotlib.axes._subplots.AxesSubplot at 0x12024aa60>"
      ]
     },
     "execution_count": 79,
     "metadata": {},
     "output_type": "execute_result"
    },
    {
     "data": {
      "image/png": "[encoded data removed]",
      "text/plain": [
       "<Figure size 432x288 with 1 Axes>"
      ]
     },
     "metadata": {
      "needs_background": "light"
     },
     "output_type": "display_data"
    }
   ],
   "source": [
    "projects['University'].value_counts().head(10).plot(kind='bar')"
   ]
  },
  {
   "cell_type": "markdown",
   "metadata": {},
   "source": [
    "## 6.3 Handling different data types\n",
    "\n",
    "Unlike Numpy arrays, Pandas can handle a variety of different data types in a dataframe. For example it is very efficient at dealing with dates. We see that our table contains e.g. a ```Start Date```. We can turn this string into an actual date:"
   ]
  },
  {
   "cell_type": "code",
   "execution_count": 97,
   "metadata": {},
   "outputs": [],
   "source": [
    "projects['start'] = pd.to_datetime(projects['Start Date'])\n",
    "projects['year'] = projects.start.apply(lambda x: x.year)"
   ]
  },
  {
   "cell_type": "code",
   "execution_count": 98,
   "metadata": {},
   "outputs": [
    {
     "data": {
      "text/plain": [
       "Timestamp('1975-01-10 00:00:00')"
      ]
     },
     "execution_count": 98,
     "metadata": {},
     "output_type": "execute_result"
    }
   ],
   "source": [
    "projects.loc[0].start"
   ]
  },
  {
   "cell_type": "code",
   "execution_count": 99,
   "metadata": {},
   "outputs": [
    {
     "data": {
      "text/plain": [
       "1975.0"
      ]
     },
     "execution_count": 99,
     "metadata": {},
     "output_type": "execute_result"
    }
   ],
   "source": [
    "projects.loc[0].year"
   ]
  },
  {
   "cell_type": "markdown",
   "metadata": {},
   "source": [
    "## 6.4 Data wrangling, aggregation and statistics\n",
    "\n",
    "Pandas is very efficient at wrangling and aggregating data, i.e. grouping several elements of a table to calculate statistics on them. For example we first need here to convert the ```Approved Amount``` to a numeric value. Certain rows contain text (e.g. \"not applicable\") and we force the conversion:"
   ]
  },
  {
   "cell_type": "code",
   "execution_count": 122,
   "metadata": {},
   "outputs": [],
   "source": [
    "projects['Approved Amount'] = pd.to_numeric(projects['Approved Amount'], errors = 'coerce')"
   ]
  },
  {
   "cell_type": "markdown",
   "metadata": {},
   "source": [
    "Then we want to extract the type of filed without subfields e.g. \"Humanities\" instead of \"Humanities and Social Sciences;Theology & religion\". For that we can create a custom function and apply it to an entire column:"
   ]
  },
  {
   "cell_type": "code",
   "execution_count": 180,
   "metadata": {},
   "outputs": [],
   "source": [
    "science_types = ['Humanities', 'Mathematics','Biology']\n",
    "projects['Field'] = projects['Discipline Name Hierarchy'].apply(\n",
    "    lambda el: next((y for y in [x for x in science_types if x in el] if y is not None),None) if not pd.isna(el) else el)\n",
    "                                            "
   ]
  },
  {
   "cell_type": "markdown",
   "metadata": {},
   "source": [
    "Then we group the data by discipline and year, and calculate the mean of each group:"
   ]
  },
  {
   "cell_type": "code",
   "execution_count": 188,
   "metadata": {},
   "outputs": [],
   "source": [
    "aggregated = projects.groupby(['Institution Country', 'year','Field'], as_index=False).mean()"
   ]
  },
  {
   "cell_type": "markdown",
   "metadata": {},
   "source": [
    "Finally we can use Seaborn to plot the data by \"Field\" using just keywords to indicate what the axes and colours should mean (following some principles of the grammar of graphics):"
   ]
  },
  {
   "cell_type": "code",
   "execution_count": 189,
   "metadata": {},
   "outputs": [
    {
     "data": {
      "image/png": "[encoded data removed]",
      "text/plain": [
       "<Figure size 432x288 with 1 Axes>"
      ]
     },
     "metadata": {
      "needs_background": "light"
     },
     "output_type": "display_data"
    }
   ],
   "source": [
    "sns.lineplot(data = aggregated, x = 'year', y='Approved Amount', hue='Field');"
   ]
  },
  {
   "cell_type": "markdown",
   "metadata": {},
   "source": [
    "Note that here, axis labelling, colorouring, legend, interval of confidence have been done automatically based on the content of the dataframe.\n",
    "\n",
    "We see a drastic augmentation around 2010: let's have a closer look. We can here again group data by year and funding type and calculate the total funding:"
   ]
  },
  {
   "cell_type": "code",
   "execution_count": 289,
   "metadata": {},
   "outputs": [],
   "source": [
    "grouped = projects.groupby(['year','Funding Instrument Hierarchy']).agg(\n",
    "    total_sum=pd.NamedAgg(column='Approved Amount', aggfunc='sum')).reset_index()"
   ]
  },
  {
   "cell_type": "code",
   "execution_count": 290,
   "metadata": {},
   "outputs": [
    {
     "data": {
      "text/html": [
       "<div>\n",
       "<style scoped>\n",
       "    .dataframe tbody tr th:only-of-type {\n",
       "        vertical-align: middle;\n",
       "    }\n",
       "\n",
       "    .dataframe tbody tr th {\n",
       "        vertical-align: top;\n",
       "    }\n",
       "\n",
       "    .dataframe thead th {\n",
       "        text-align: right;\n",
       "    }\n",
       "</style>\n",
       "<table border=\"1\" class=\"dataframe\">\n",
       "  <thead>\n",
       "    <tr style=\"text-align: right;\">\n",
       "      <th></th>\n",
       "      <th>year</th>\n",
       "      <th>Funding Instrument Hierarchy</th>\n",
       "      <th>total_sum</th>\n",
       "    </tr>\n",
       "  </thead>\n",
       "  <tbody>\n",
       "    <tr>\n",
       "      <th>0</th>\n",
       "      <td>1975.0</td>\n",
       "      <td>Project funding</td>\n",
       "      <td>32124534.0</td>\n",
       "    </tr>\n",
       "    <tr>\n",
       "      <th>1</th>\n",
       "      <td>1975.0</td>\n",
       "      <td>Science communication</td>\n",
       "      <td>44600.0</td>\n",
       "    </tr>\n",
       "    <tr>\n",
       "      <th>2</th>\n",
       "      <td>1976.0</td>\n",
       "      <td>Programmes;National Research Programmes (NRPs)</td>\n",
       "      <td>268812.0</td>\n",
       "    </tr>\n",
       "    <tr>\n",
       "      <th>3</th>\n",
       "      <td>1976.0</td>\n",
       "      <td>Project funding</td>\n",
       "      <td>96620284.0</td>\n",
       "    </tr>\n",
       "    <tr>\n",
       "      <th>4</th>\n",
       "      <td>1976.0</td>\n",
       "      <td>Science communication</td>\n",
       "      <td>126939.0</td>\n",
       "    </tr>\n",
       "    <tr>\n",
       "      <th>...</th>\n",
       "      <td>...</td>\n",
       "      <td>...</td>\n",
       "      <td>...</td>\n",
       "    </tr>\n",
       "    <tr>\n",
       "      <th>378</th>\n",
       "      <td>2020.0</td>\n",
       "      <td>Programmes;r4d (Swiss Programme for Research o...</td>\n",
       "      <td>195910.0</td>\n",
       "    </tr>\n",
       "    <tr>\n",
       "      <th>379</th>\n",
       "      <td>2020.0</td>\n",
       "      <td>Project funding</td>\n",
       "      <td>182529824.0</td>\n",
       "    </tr>\n",
       "    <tr>\n",
       "      <th>380</th>\n",
       "      <td>2020.0</td>\n",
       "      <td>Project funding;Project funding (special)</td>\n",
       "      <td>19239681.0</td>\n",
       "    </tr>\n",
       "    <tr>\n",
       "      <th>381</th>\n",
       "      <td>2020.0</td>\n",
       "      <td>Science communication</td>\n",
       "      <td>3416040.0</td>\n",
       "    </tr>\n",
       "    <tr>\n",
       "      <th>382</th>\n",
       "      <td>2021.0</td>\n",
       "      <td>Science communication</td>\n",
       "      <td>51000.0</td>\n",
       "    </tr>\n",
       "  </tbody>\n",
       "</table>\n",
       "<p>383 rows × 3 columns</p>\n",
       "</div>"
      ],
      "text/plain": [
       "       year                       Funding Instrument Hierarchy    total_sum\n",
       "0    1975.0                                    Project funding   32124534.0\n",
       "1    1975.0                              Science communication      44600.0\n",
       "2    1976.0     Programmes;National Research Programmes (NRPs)     268812.0\n",
       "3    1976.0                                    Project funding   96620284.0\n",
       "4    1976.0                              Science communication     126939.0\n",
       "..      ...                                                ...          ...\n",
       "378  2020.0  Programmes;r4d (Swiss Programme for Research o...     195910.0\n",
       "379  2020.0                                    Project funding  182529824.0\n",
       "380  2020.0          Project funding;Project funding (special)   19239681.0\n",
       "381  2020.0                              Science communication    3416040.0\n",
       "382  2021.0                              Science communication      51000.0\n",
       "\n",
       "[383 rows x 3 columns]"
      ]
     },
     "execution_count": 290,
     "metadata": {},
     "output_type": "execute_result"
    }
   ],
   "source": [
    "grouped"
   ]
  },
  {
   "cell_type": "markdown",
   "metadata": {},
   "source": [
    "Now, for each year we keep only the 5 largest funding types to be able to plot them:"
   ]
  },
  {
   "cell_type": "code",
   "execution_count": 295,
   "metadata": {},
   "outputs": [],
   "source": [
    "group_sorted = grouped.groupby('year',as_index=False).apply(lambda x: (x.groupby('Funding Instrument Hierarchy')\n",
    "                                      .sum()\n",
    "                                      .sort_values('total_sum', ascending=False))\n",
    "                                     .head(5)).reset_index()"
   ]
  },
  {
   "cell_type": "markdown",
   "metadata": {},
   "source": [
    "Finally, we only keep year in the 2000's:"
   ]
  },
  {
   "cell_type": "code",
   "execution_count": 297,
   "metadata": {},
   "outputs": [],
   "source": [
    "instruments_by_year = group_sorted[(group_sorted.year > 2005) & (group_sorted.year < 2012)]"
   ]
  },
  {
   "cell_type": "code",
   "execution_count": 299,
   "metadata": {},
   "outputs": [
    {
     "data": {
      "text/plain": [
       "<matplotlib.axes._subplots.AxesSubplot at 0x13dfc13d0>"
      ]
     },
     "execution_count": 299,
     "metadata": {},
     "output_type": "execute_result"
    },
    {
     "data": {
      "image/png": "[encoded data removed]",
      "text/plain": [
       "<Figure size 720x720 with 1 Axes>"
      ]
     },
     "metadata": {
      "needs_background": "light"
     },
     "output_type": "display_data"
    }
   ],
   "source": [
    "import matplotlib.pyplot as plt\n",
    "plt.figure(figsize=(10,10))\n",
    "sns.barplot(data=instruments_by_year,\n",
    "            x='year', y='total_sum', hue='Funding Instrument Hierarchy')"
   ]
  },
  {
   "cell_type": "markdown",
   "metadata": {},
   "source": [
    "We see that the main change, is the sudden increase in funding for national research programs."
   ]
  },
  {
   "cell_type": "code",
   "execution_count": null,
   "metadata": {},
   "outputs": [],
   "source": []
  }
 ],
 "metadata": {
  "kernelspec": {
   "display_name": "Python 3",
   "language": "python",
   "name": "python3"
  },
  "language_info": {
   "codemirror_mode": {
    "name": "ipython",
    "version": 3
   },
   "file_extension": ".py",
   "mimetype": "text/x-python",
   "name": "python",
   "nbconvert_exporter": "python",
   "pygments_lexer": "ipython3",
   "version": "3.8.2"
  }
 },
 "nbformat": 4,
 "nbformat_minor": 4
}
